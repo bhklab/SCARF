{
 "cells": [
  {
   "cell_type": "code",
   "execution_count": 10,
   "metadata": {},
   "outputs": [],
   "source": [
    "import json \n",
    "def getJson(path):\n",
    "    with open(path, 'r') as myfile:\n",
    "        data=myfile.read()\n",
    "    obj = json.loads(data)\n",
    "    return obj"
   ]
  },
  {
   "cell_type": "code",
   "execution_count": 11,
   "metadata": {},
   "outputs": [],
   "source": [
    "data = getJson('./configs/example_config.json')"
   ]
  },
  {
   "cell_type": "code",
   "execution_count": 12,
   "metadata": {},
   "outputs": [
    {
     "data": {
      "text/plain": [
       "{'train': [{'image': '/cluster/projects/radiomics/Temp/josh/nnUNet_raw/Dataset003_RADCURE/imagesTr/rad_000_0000.nii.gz',\n",
       "   'label': '/cluster/projects/radiomics/Temp/josh/nnUNet_raw/Dataset003_RADCURE/labelsTr/rad_000.nii.gz'},\n",
       "  {'image': '/cluster/projects/radiomics/Temp/josh/nnUNet_raw/Dataset003_RADCURE/imagesTr/rad_001_0000.nii.gz',\n",
       "   'label': '/cluster/projects/radiomics/Temp/josh/nnUNet_raw/Dataset003_RADCURE/imagesTr/rad_001.nii.gz'},\n",
       "  {'image': '/cluster/projects/radiomics/Temp/josh/nnUNet_raw/Dataset003_RADCURE/imagesTr/rad_002_0000.nii.gz',\n",
       "   'label': '/cluster/projects/radiomics/Temp/josh/nnUNet_raw/Dataset003_RADCURE/imagesTr/rad_002.nii.gz'},\n",
       "  {'image': '/cluster/projects/radiomics/Temp/josh/nnUNet_raw/Dataset003_RADCURE/imagesTr/rad_003_0000.nii.gz',\n",
       "   'label': '/cluster/projects/radiomics/Temp/josh/nnUNet_raw/Dataset003_RADCURE/imagesTr/rad_003.nii.gz'},\n",
       "  {'image': '/cluster/projects/radiomics/Temp/josh/nnUNet_raw/Dataset003_RADCURE/imagesTr/rad_004_0000.nii.gz',\n",
       "   'label': '/cluster/projects/radiomics/Temp/josh/nnUNet_raw/Dataset003_RADCURE/imagesTr/rad_004.nii.gz'},\n",
       "  {'image': '/cluster/projects/radiomics/Temp/josh/nnUNet_raw/Dataset003_RADCURE/imagesTr/rad_005_0000.nii.gz',\n",
       "   'label': '/cluster/projects/radiomics/Temp/josh/nnUNet_raw/Dataset003_RADCURE/imagesTr/rad_005.nii.gz'},\n",
       "  {'image': '/cluster/projects/radiomics/Temp/josh/nnUNet_raw/Dataset003_RADCURE/imagesTr/rad_006_0000.nii.gz',\n",
       "   'label': '/cluster/projects/radiomics/Temp/josh/nnUNet_raw/Dataset003_RADCURE/imagesTr/rad_006.nii.gz'},\n",
       "  {'image': '/cluster/projects/radiomics/Temp/josh/nnUNet_raw/Dataset003_RADCURE/imagesTr/rad_007_0000.nii.gz',\n",
       "   'label': '/cluster/projects/radiomics/Temp/josh/nnUNet_raw/Dataset003_RADCURE/imagesTr/rad_007.nii.gz'},\n",
       "  {'image': '/cluster/projects/radiomics/Temp/josh/nnUNet_raw/Dataset003_RADCURE/imagesTr/rad_008_0000.nii.gz',\n",
       "   'label': '/cluster/projects/radiomics/Temp/josh/nnUNet_raw/Dataset003_RADCURE/imagesTr/rad_008.nii.gz'},\n",
       "  {'image': '/cluster/projects/radiomics/Temp/josh/nnUNet_raw/Dataset003_RADCURE/imagesTr/rad_009_0000.nii.gz',\n",
       "   'label': '/cluster/projects/radiomics/Temp/josh/nnUNet_raw/Dataset003_RADCURE/imagesTr/rad_009.nii.gz'},\n",
       "  {'image': '/cluster/projects/radiomics/Temp/josh/nnUNet_raw/Dataset003_RADCURE/imagesTr/rad_010_0000.nii.gz',\n",
       "   'label': '/cluster/projects/radiomics/Temp/josh/nnUNet_raw/Dataset003_RADCURE/imagesTr/rad_010.nii.gz'}],\n",
       " 'val': [{'image': '/cluster/projects/radiomics/Temp/josh/nnUNet_raw/Dataset003_RADCURE/imagesTr/rad_011_0000.nii.gz',\n",
       "   'label': '/cluster/projects/radiomics/Temp/josh/nnUNet_raw/Dataset003_RADCURE/labelsTr/rad_011.nii.gz'},\n",
       "  {'image': '/cluster/projects/radiomics/Temp/josh/nnUNet_raw/Dataset003_RADCURE/imagesTr/rad_012_0000.nii.gz',\n",
       "   'label': '/cluster/projects/radiomics/Temp/josh/nnUNet_raw/Dataset003_RADCURE/imagesTr/rad_012.nii.gz'},\n",
       "  {'image': '/cluster/projects/radiomics/Temp/josh/nnUNet_raw/Dataset003_RADCURE/imagesTr/rad_013_0000.nii.gz',\n",
       "   'label': '/cluster/projects/radiomics/Temp/josh/nnUNet_raw/Dataset003_RADCURE/imagesTr/rad_013.nii.gz'},\n",
       "  {'image': '/cluster/projects/radiomics/Temp/josh/nnUNet_raw/Dataset003_RADCURE/imagesTr/rad_014_0000.nii.gz',\n",
       "   'label': '/cluster/projects/radiomics/Temp/josh/nnUNet_raw/Dataset003_RADCURE/imagesTr/rad_014.nii.gz'},\n",
       "  {'image': '/cluster/projects/radiomics/Temp/josh/nnUNet_raw/Dataset003_RADCURE/imagesTr/rad_015_0000.nii.gz',\n",
       "   'label': '/cluster/projects/radiomics/Temp/josh/nnUNet_raw/Dataset003_RADCURE/imagesTr/rad_015.nii.gz'}],\n",
       " 'std': 226.03663728492648,\n",
       " 'mean': -407.4462155135238}"
      ]
     },
     "execution_count": 12,
     "metadata": {},
     "output_type": "execute_result"
    }
   ],
   "source": [
    "data"
   ]
  },
  {
   "cell_type": "code",
   "execution_count": null,
   "metadata": {},
   "outputs": [],
   "source": [
    "data['train'] = []\n",
    "data['val'] = []"
   ]
  },
  {
   "cell_type": "code",
   "execution_count": 4,
   "metadata": {},
   "outputs": [],
   "source": [
    "\n",
    "for idx in range(11):\n",
    "    data['train'].append({'image': f'/cluster/projects/radiomics/Temp/josh/nnUNet_raw/Dataset003_RADCURE/imagesTr/rad_{idx:03}_0000.nii.gz',\n",
    "                          'label': f'/cluster/projects/radiomics/Temp/josh/nnUNet_raw/Dataset003_RADCURE/labelsTr/rad_{idx:03}.nii.gz'})"
   ]
  },
  {
   "cell_type": "code",
   "execution_count": 5,
   "metadata": {},
   "outputs": [],
   "source": [
    "for idx in range(12, 16):\n",
    "    data['val'].append({'image': f'/cluster/projects/radiomics/Temp/josh/nnUNet_raw/Dataset003_RADCURE/imagesTr/rad_{idx:03}_0000.nii.gz',\n",
    "                          'label': f'/cluster/projects/radiomics/Temp/josh/nnUNet_raw/Dataset003_RADCURE/labelsTr/rad_{idx:03}.nii.gz'})"
   ]
  },
  {
   "cell_type": "code",
   "execution_count": 6,
   "metadata": {},
   "outputs": [
    {
     "data": {
      "text/plain": [
       "{'train': [{'image': '/cluster/projects/radiomics/Temp/josh/nnUNet_raw/Dataset003_RADCURE/imagesTr/rad_000_0000.nii.gz',\n",
       "   'label': '/cluster/projects/radiomics/Temp/josh/nnUNet_raw/Dataset003_RADCURE/labelsTr/rad_000.nii.gz'},\n",
       "  {'image': '/cluster/projects/radiomics/Temp/josh/nnUNet_raw/Dataset003_RADCURE/imagesTr/rad_001_0000.nii.gz',\n",
       "   'label': '/cluster/projects/radiomics/Temp/josh/nnUNet_raw/Dataset003_RADCURE/imagesTr/rad_001.nii.gz'},\n",
       "  {'image': '/cluster/projects/radiomics/Temp/josh/nnUNet_raw/Dataset003_RADCURE/imagesTr/rad_002_0000.nii.gz',\n",
       "   'label': '/cluster/projects/radiomics/Temp/josh/nnUNet_raw/Dataset003_RADCURE/imagesTr/rad_002.nii.gz'},\n",
       "  {'image': '/cluster/projects/radiomics/Temp/josh/nnUNet_raw/Dataset003_RADCURE/imagesTr/rad_003_0000.nii.gz',\n",
       "   'label': '/cluster/projects/radiomics/Temp/josh/nnUNet_raw/Dataset003_RADCURE/imagesTr/rad_003.nii.gz'},\n",
       "  {'image': '/cluster/projects/radiomics/Temp/josh/nnUNet_raw/Dataset003_RADCURE/imagesTr/rad_004_0000.nii.gz',\n",
       "   'label': '/cluster/projects/radiomics/Temp/josh/nnUNet_raw/Dataset003_RADCURE/imagesTr/rad_004.nii.gz'},\n",
       "  {'image': '/cluster/projects/radiomics/Temp/josh/nnUNet_raw/Dataset003_RADCURE/imagesTr/rad_005_0000.nii.gz',\n",
       "   'label': '/cluster/projects/radiomics/Temp/josh/nnUNet_raw/Dataset003_RADCURE/imagesTr/rad_005.nii.gz'},\n",
       "  {'image': '/cluster/projects/radiomics/Temp/josh/nnUNet_raw/Dataset003_RADCURE/imagesTr/rad_006_0000.nii.gz',\n",
       "   'label': '/cluster/projects/radiomics/Temp/josh/nnUNet_raw/Dataset003_RADCURE/imagesTr/rad_006.nii.gz'},\n",
       "  {'image': '/cluster/projects/radiomics/Temp/josh/nnUNet_raw/Dataset003_RADCURE/imagesTr/rad_007_0000.nii.gz',\n",
       "   'label': '/cluster/projects/radiomics/Temp/josh/nnUNet_raw/Dataset003_RADCURE/imagesTr/rad_007.nii.gz'},\n",
       "  {'image': '/cluster/projects/radiomics/Temp/josh/nnUNet_raw/Dataset003_RADCURE/imagesTr/rad_008_0000.nii.gz',\n",
       "   'label': '/cluster/projects/radiomics/Temp/josh/nnUNet_raw/Dataset003_RADCURE/imagesTr/rad_008.nii.gz'},\n",
       "  {'image': '/cluster/projects/radiomics/Temp/josh/nnUNet_raw/Dataset003_RADCURE/imagesTr/rad_009_0000.nii.gz',\n",
       "   'label': '/cluster/projects/radiomics/Temp/josh/nnUNet_raw/Dataset003_RADCURE/imagesTr/rad_009.nii.gz'},\n",
       "  {'image': '/cluster/projects/radiomics/Temp/josh/nnUNet_raw/Dataset003_RADCURE/imagesTr/rad_010_0000.nii.gz',\n",
       "   'label': '/cluster/projects/radiomics/Temp/josh/nnUNet_raw/Dataset003_RADCURE/imagesTr/rad_010.nii.gz'}],\n",
       " 'val': [{'image': '/cluster/projects/radiomics/Temp/josh/nnUNet_raw/Dataset003_RADCURE/imagesTr/rad_011_0000.nii.gz',\n",
       "   'label': '/cluster/projects/radiomics/Temp/josh/nnUNet_raw/Dataset003_RADCURE/labelsTr/rad_011.nii.gz'},\n",
       "  {'image': '/cluster/projects/radiomics/Temp/josh/nnUNet_raw/Dataset003_RADCURE/imagesTr/rad_012_0000.nii.gz',\n",
       "   'label': '/cluster/projects/radiomics/Temp/josh/nnUNet_raw/Dataset003_RADCURE/imagesTr/rad_012.nii.gz'},\n",
       "  {'image': '/cluster/projects/radiomics/Temp/josh/nnUNet_raw/Dataset003_RADCURE/imagesTr/rad_013_0000.nii.gz',\n",
       "   'label': '/cluster/projects/radiomics/Temp/josh/nnUNet_raw/Dataset003_RADCURE/imagesTr/rad_013.nii.gz'},\n",
       "  {'image': '/cluster/projects/radiomics/Temp/josh/nnUNet_raw/Dataset003_RADCURE/imagesTr/rad_014_0000.nii.gz',\n",
       "   'label': '/cluster/projects/radiomics/Temp/josh/nnUNet_raw/Dataset003_RADCURE/imagesTr/rad_014.nii.gz'},\n",
       "  {'image': '/cluster/projects/radiomics/Temp/josh/nnUNet_raw/Dataset003_RADCURE/imagesTr/rad_015_0000.nii.gz',\n",
       "   'label': '/cluster/projects/radiomics/Temp/josh/nnUNet_raw/Dataset003_RADCURE/imagesTr/rad_015.nii.gz'}],\n",
       " 'std': 226.03663728492648,\n",
       " 'mean': -407.4462155135238}"
      ]
     },
     "execution_count": 6,
     "metadata": {},
     "output_type": "execute_result"
    }
   ],
   "source": [
    "data\n"
   ]
  },
  {
   "cell_type": "code",
   "execution_count": 8,
   "metadata": {},
   "outputs": [],
   "source": [
    "with open('./configs/example_config.json', 'w') as json_file:\n",
    "    json.dump(data, json_file, indent=4)"
   ]
  }
 ],
 "metadata": {
  "kernelspec": {
   "display_name": "Python 3",
   "language": "python",
   "name": "python3"
  },
  "language_info": {
   "codemirror_mode": {
    "name": "ipython",
    "version": 3
   },
   "file_extension": ".py",
   "mimetype": "text/x-python",
   "name": "python",
   "nbconvert_exporter": "python",
   "pygments_lexer": "ipython3",
   "version": "3.8.10"
  }
 },
 "nbformat": 4,
 "nbformat_minor": 2
}
