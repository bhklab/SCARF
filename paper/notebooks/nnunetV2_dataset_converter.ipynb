{
 "cells": [
  {
   "cell_type": "code",
   "execution_count": null,
   "id": "858ec581-45c1-4f41-8e3d-f0f0f4cf494b",
   "metadata": {},
   "outputs": [],
   "source": [
    "# First set of functions recursively mine dataset in folder CT_IMAGE.nrrd structures > mask_name_0...mask_name_n\n",
    "# convert to nnunetv2 dataset structure...\n",
    "# for most of our cases we will be using the simple dataset structure defined in\n",
    "# https://github.com/MIC-DKFZ/nnUNet/blob/master/documentation/dataset_format.md\n",
    "# Here is another example of the second dataset of the MSD, which has only one input channel:\n",
    "# nnUNet_raw/Dataset002_Heart/\n",
    "# ├── dataset.json\n",
    "# ├── imagesTr\n",
    "# │   ├── la_003_0000.nii.gz\n",
    "# │   ├── la_004_0000.nii.gz\n",
    "# │   ├── ...\n",
    "# ├── imagesTs\n",
    "# │   ├── la_001_0000.nii.gz\n",
    "# │   ├── la_002_0000.nii.gz\n",
    "# │   ├── ...\n",
    "# └── labelsTr\n",
    "#     ├── la_003.nii.gz\n",
    "#     ├── la_004.nii.gz\n",
    "#     ├── ...\n"
   ]
  },
  {
   "cell_type": "code",
   "execution_count": 2,
   "id": "15f75a09-da24-4d5a-97ef-cfe08f1f5a50",
   "metadata": {},
   "outputs": [],
   "source": [
    "import pandas as pd\n",
    "import glob, os, numpy as np, nrrd\n",
    "\n",
    "dataset_name = \"Dataset001_HNOAR\"\n",
    "try:\n",
    "    os.mkdir(\"/Users/jmarsill/Documents/nnunetV2\")\n",
    "    os.mkdir(f\"/Users/jmarsill/Documents/nnunetV2/{dataset_name}\")\n",
    "    os.mkdir(f\"/Users/jmarsill/Documents/nnunetV2/{dataset_name}/imagesTr\")\n",
    "    os.mkdir(f\"/Users/jmarsill/Documents/nnunetV2/{dataset_name}/imagesTs\")\n",
    "    os.mkdir(f\"/Users/jmarsill/Documents/nnunetV2/{dataset_name}/labelsTr\")\n",
    "    os.mkdir(f\"/Users/jmarsill/Documents/nnunetV2/{dataset_name}/labelsTs\")\n",
    "except:\n",
    "    pass\n",
    "\n",
    "paths = [\"/Users/jmarsill/Documents/External Data/WOLENS/Structured/DEEPMIND:PDDCA\",\n",
    "         \"/Users/jmarsill/Documents/External Data/WOLENS/Structured/StructSeg2019\",\n",
    "         \"/Users/jmarsill/Documents/External Data/WOLENS/Structured/TCIA-HNSCC-3DCT\"]\n",
    "\n",
    "count = 1\n",
    "for p in paths:\n",
    "    folders = glob.glob(p+\"/*\")\n",
    "    for f in folders:\n",
    "        patient = f.split(\"/\")[-1]\n",
    "        rois = glob.glob(f + \"/structures/*\")\n",
    "        ending = rois[0].split(\".\")[-1]\n",
    "        rois = [r.split(\"/\")[-1].partition(\".\")[0] for r in rois]\n",
    "        rois.sort()\n",
    "        break\n",
    "        # read the image...its the same...\n",
    "        img = nrrd.read(f+\"/CT_IMAGE.nrrd\")\n",
    "        head = img[1]\n",
    "        \n",
    "        if len(str(count)) < 3:\n",
    "            val_count = \"0\" + str(count)\n",
    "            if len(val_count) < 3:\n",
    "                val_count = \"0\" + val_count\n",
    "        else:\n",
    "            val_count = str(count)\n",
    "                \n",
    "        new_img_path = f\"/Users/jmarsill/Documents/nnunetV2/{dataset_name}/imagesTr/{patient}_{val_count}_000.nrrd\"\n",
    "        nrrd.write(new_img_path, img[0], img[1])\n",
    "        \n",
    "        mask = None\n",
    "        for i, roi in enumerate(rois):\n",
    "            if mask is None:\n",
    "                mask = nrrd.read(f + f\"/structures/{roi}.{ending}\")\n",
    "                mask = mask[0]\n",
    "            else:\n",
    "                mask_ = nrrd.read(f + f\"/structures/{roi}.{ending}\")\n",
    "                mask_ = mask_[0]\n",
    "                mask[mask_==1] = i+1\n",
    "        \n",
    "        print(f\"Finished making {mask.max()} class mask for {patient}\")\n",
    "        new_mask_path = f\"/Users/jmarsill/Documents/nnunetV2/{dataset_name}/labelsTr/{patient}_{val_count}_000.nrrd\"\n",
    "        nrrd.write(new_mask_path, np.int8(mask), header=head)\n",
    "        count+=1\n",
    "        # break\n",
    "    break"
   ]
  },
  {
   "cell_type": "code",
   "execution_count": null,
   "id": "59f067cd-9981-4c7a-b358-3505df4083aa",
   "metadata": {},
   "outputs": [],
   "source": [
    "# The dataset.json contains metadata that nnU-Net needs for training. We have greatly reduced the number of required fields since version 1!\n",
    "# Here is what the dataset.json should look like at the example of the Dataset005_Prostate from the MSD:\n",
    "# { \n",
    "#  \"channel_names\": {  # formerly modalities\n",
    "#    \"0\": \"T2\", \n",
    "#    \"1\": \"ADC\"\n",
    "#  }, \n",
    "#  \"labels\": {  # THIS IS DIFFERENT NOW!\n",
    "#    \"background\": 0,\n",
    "#    \"PZ\": 1,\n",
    "#    \"TZ\": 2\n",
    "#  }, \n",
    "#  \"numTraining\": 32, \n",
    "#  \"file_ending\": \".nii.gz\"\n",
    "#  \"overwrite_image_reader_writer\": \"SimpleITKIO\"  # optional! If not provided nnU-Net will automatically determine the ReaderWriter\n",
    "#  }"
   ]
  },
  {
   "cell_type": "code",
   "execution_count": 4,
   "id": "be56fc96-ae2d-49e7-887e-be0e49d886ec",
   "metadata": {},
   "outputs": [
    {
     "data": {
      "text/plain": [
       "'nrrd'"
      ]
     },
     "execution_count": 4,
     "metadata": {},
     "output_type": "execute_result"
    }
   ],
   "source": [
    "ending"
   ]
  },
  {
   "cell_type": "code",
   "execution_count": 5,
   "id": "05b7080d-2efe-47e6-80b0-09a37200e3bb",
   "metadata": {},
   "outputs": [],
   "source": [
    "data = {}\n",
    "data[\"channel_names\"] = {\"0\":\"CT\"}\n",
    "data[\"labels\"] = {name:i+1 for i,name in enumerate(rois)}\n",
    "data[\"labels\"][\"Background\"] = 0\n",
    "data[\"num_training\"] = len(glob.glob(f\"/Users/jmarsill/Documents/nnunetV2/{dataset_name}/imagesTr/*\"))\n",
    "data[\"file_ending\"] = f\".{ending}\""
   ]
  },
  {
   "cell_type": "code",
   "execution_count": 11,
   "id": "5d876788-ae8a-490f-9e2e-4582e84c2c90",
   "metadata": {},
   "outputs": [],
   "source": [
    "import json\n",
    "with open(f\"/Users/jmarsill/Documents/nnunetV2/{dataset_name}/dataset.json\", 'w', encoding ='utf8') as json_file:\n",
    "    json.dump(data, json_file)#, ensure_ascii = False)"
   ]
  },
  {
   "cell_type": "code",
   "execution_count": 23,
   "id": "8eebfa33-2dd0-477c-a8bc-ada955d547d5",
   "metadata": {},
   "outputs": [],
   "source": [
    "import shutil\n",
    "for i, v in enumerate(im):\n",
    "    shutil.move(v.replace(\"imagesTr\",\"labelsTr\"), im_[i].replace(\"imagesTr\",\"labelsTr\"))"
   ]
  }
 ],
 "metadata": {
  "kernelspec": {
   "display_name": "Python 3 (ipykernel)",
   "language": "python",
   "name": "python3"
  },
  "language_info": {
   "codemirror_mode": {
    "name": "ipython",
    "version": 3
   },
   "file_extension": ".py",
   "mimetype": "text/x-python",
   "name": "python",
   "nbconvert_exporter": "python",
   "pygments_lexer": "ipython3",
   "version": "3.10.9"
  }
 },
 "nbformat": 4,
 "nbformat_minor": 5
}
