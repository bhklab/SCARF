{
 "cells": [
  {
   "cell_type": "code",
   "execution_count": 4,
   "id": "c177e446-2cea-41d9-9ed0-87441d0f003f",
   "metadata": {},
   "outputs": [],
   "source": [
    "import pandas as pd\n",
    "\n",
    "data_ = pd.read_csv(\"/Users/jmarsill/Documents/turing_oar_wolnet2.csv\", index_col=0)"
   ]
  },
  {
   "cell_type": "code",
   "execution_count": 5,
   "id": "0c38d5ab-860e-41f0-860f-463312049efd",
   "metadata": {},
   "outputs": [
    {
     "data": {
      "text/html": [
       "<div>\n",
       "<style scoped>\n",
       "    .dataframe tbody tr th:only-of-type {\n",
       "        vertical-align: middle;\n",
       "    }\n",
       "\n",
       "    .dataframe tbody tr th {\n",
       "        vertical-align: top;\n",
       "    }\n",
       "\n",
       "    .dataframe thead th {\n",
       "        text-align: right;\n",
       "    }\n",
       "</style>\n",
       "<table border=\"1\" class=\"dataframe\">\n",
       "  <thead>\n",
       "    <tr style=\"text-align: right;\">\n",
       "      <th></th>\n",
       "      <th>Id</th>\n",
       "      <th>Test_patient</th>\n",
       "      <th>Observer</th>\n",
       "      <th>OAR</th>\n",
       "    </tr>\n",
       "  </thead>\n",
       "  <tbody>\n",
       "    <tr>\n",
       "      <th>0</th>\n",
       "      <td>D1D983RD</td>\n",
       "      <td>30</td>\n",
       "      <td>True</td>\n",
       "      <td>BSTEM</td>\n",
       "    </tr>\n",
       "    <tr>\n",
       "      <th>1</th>\n",
       "      <td>HHH53H20</td>\n",
       "      <td>30</td>\n",
       "      <td>False</td>\n",
       "      <td>BSTEM</td>\n",
       "    </tr>\n",
       "    <tr>\n",
       "      <th>2</th>\n",
       "      <td>6S822KKK</td>\n",
       "      <td>30</td>\n",
       "      <td>True</td>\n",
       "      <td>SPCOR</td>\n",
       "    </tr>\n",
       "    <tr>\n",
       "      <th>3</th>\n",
       "      <td>OOU90O76</td>\n",
       "      <td>30</td>\n",
       "      <td>False</td>\n",
       "      <td>SPCOR</td>\n",
       "    </tr>\n",
       "    <tr>\n",
       "      <th>4</th>\n",
       "      <td>D101CC</td>\n",
       "      <td>30</td>\n",
       "      <td>True</td>\n",
       "      <td>ESOPH</td>\n",
       "    </tr>\n",
       "  </tbody>\n",
       "</table>\n",
       "</div>"
      ],
      "text/plain": [
       "         Id  Test_patient  Observer    OAR\n",
       "0  D1D983RD            30      True  BSTEM\n",
       "1  HHH53H20            30     False  BSTEM\n",
       "2  6S822KKK            30      True  SPCOR\n",
       "3  OOU90O76            30     False  SPCOR\n",
       "4    D101CC            30      True  ESOPH"
      ]
     },
     "execution_count": 5,
     "metadata": {},
     "output_type": "execute_result"
    }
   ],
   "source": [
    "data_.head()"
   ]
  },
  {
   "cell_type": "code",
   "execution_count": 6,
   "id": "a8ae409b-acd0-4aca-a507-87f5b7879ace",
   "metadata": {},
   "outputs": [],
   "source": [
    "bias_ = pd.read_csv(\"/Users/jmarsill/Documents/bias_test_data.csv\", index_col=0)"
   ]
  },
  {
   "cell_type": "code",
   "execution_count": 7,
   "id": "8a252f6d-631c-4b75-a729-c1a72dc285d5",
   "metadata": {},
   "outputs": [
    {
     "data": {
      "text/html": [
       "<div>\n",
       "<style scoped>\n",
       "    .dataframe tbody tr th:only-of-type {\n",
       "        vertical-align: middle;\n",
       "    }\n",
       "\n",
       "    .dataframe tbody tr th {\n",
       "        vertical-align: top;\n",
       "    }\n",
       "\n",
       "    .dataframe thead th {\n",
       "        text-align: right;\n",
       "    }\n",
       "</style>\n",
       "<table border=\"1\" class=\"dataframe\">\n",
       "  <thead>\n",
       "    <tr style=\"text-align: right;\">\n",
       "      <th></th>\n",
       "      <th>PATIENT</th>\n",
       "      <th>RATING</th>\n",
       "      <th>OAR</th>\n",
       "      <th>USER</th>\n",
       "      <th>PREDICTION</th>\n",
       "      <th>ACTUAL</th>\n",
       "      <th>TESTPAT</th>\n",
       "    </tr>\n",
       "  </thead>\n",
       "  <tbody>\n",
       "    <tr>\n",
       "      <th>282</th>\n",
       "      <td>5J0DDD51</td>\n",
       "      <td>4</td>\n",
       "      <td>LACOU</td>\n",
       "      <td>Expert-0</td>\n",
       "      <td>Human</td>\n",
       "      <td>Human</td>\n",
       "      <td>12</td>\n",
       "    </tr>\n",
       "    <tr>\n",
       "      <th>283</th>\n",
       "      <td>5J0DDD51</td>\n",
       "      <td>3</td>\n",
       "      <td>LACOU</td>\n",
       "      <td>Expert-1</td>\n",
       "      <td>Computer</td>\n",
       "      <td>Human</td>\n",
       "      <td>12</td>\n",
       "    </tr>\n",
       "    <tr>\n",
       "      <th>286</th>\n",
       "      <td>8368UUMU</td>\n",
       "      <td>3</td>\n",
       "      <td>LACOU</td>\n",
       "      <td>Expert-0</td>\n",
       "      <td>Computer</td>\n",
       "      <td>Human</td>\n",
       "      <td>30</td>\n",
       "    </tr>\n",
       "    <tr>\n",
       "      <th>287</th>\n",
       "      <td>8368UUMU</td>\n",
       "      <td>2</td>\n",
       "      <td>LACOU</td>\n",
       "      <td>Expert-1</td>\n",
       "      <td>I don't know</td>\n",
       "      <td>Human</td>\n",
       "      <td>30</td>\n",
       "    </tr>\n",
       "    <tr>\n",
       "      <th>300</th>\n",
       "      <td>LX4LL621</td>\n",
       "      <td>4</td>\n",
       "      <td>LACOU</td>\n",
       "      <td>Expert-0</td>\n",
       "      <td>Human</td>\n",
       "      <td>Human</td>\n",
       "      <td>36</td>\n",
       "    </tr>\n",
       "  </tbody>\n",
       "</table>\n",
       "</div>"
      ],
      "text/plain": [
       "      PATIENT  RATING    OAR      USER    PREDICTION ACTUAL  TESTPAT\n",
       "282  5J0DDD51       4  LACOU  Expert-0         Human  Human       12\n",
       "283  5J0DDD51       3  LACOU  Expert-1      Computer  Human       12\n",
       "286  8368UUMU       3  LACOU  Expert-0      Computer  Human       30\n",
       "287  8368UUMU       2  LACOU  Expert-1  I don't know  Human       30\n",
       "300  LX4LL621       4  LACOU  Expert-0         Human  Human       36"
      ]
     },
     "execution_count": 7,
     "metadata": {},
     "output_type": "execute_result"
    }
   ],
   "source": [
    "bias_.head()"
   ]
  },
  {
   "cell_type": "code",
   "execution_count": 9,
   "id": "2a166131-334f-4c7c-92d1-84161cf1cb17",
   "metadata": {},
   "outputs": [],
   "source": [
    "p = list(bias_[\"PATIENT\"].unique())\n",
    "d = data_[data_[\"Id\"].isin(p)]"
   ]
  },
  {
   "cell_type": "code",
   "execution_count": 10,
   "id": "5a661c99-9114-42c7-b8fc-4836682ba1e5",
   "metadata": {},
   "outputs": [
    {
     "data": {
      "text/html": [
       "<div>\n",
       "<style scoped>\n",
       "    .dataframe tbody tr th:only-of-type {\n",
       "        vertical-align: middle;\n",
       "    }\n",
       "\n",
       "    .dataframe tbody tr th {\n",
       "        vertical-align: top;\n",
       "    }\n",
       "\n",
       "    .dataframe thead th {\n",
       "        text-align: right;\n",
       "    }\n",
       "</style>\n",
       "<table border=\"1\" class=\"dataframe\">\n",
       "  <thead>\n",
       "    <tr style=\"text-align: right;\">\n",
       "      <th></th>\n",
       "      <th>Id</th>\n",
       "      <th>Test_patient</th>\n",
       "      <th>Observer</th>\n",
       "      <th>OAR</th>\n",
       "    </tr>\n",
       "  </thead>\n",
       "  <tbody>\n",
       "    <tr>\n",
       "      <th>14</th>\n",
       "      <td>8368UUMU</td>\n",
       "      <td>30</td>\n",
       "      <td>True</td>\n",
       "      <td>LACOU</td>\n",
       "    </tr>\n",
       "    <tr>\n",
       "      <th>22</th>\n",
       "      <td>H583HM1H</td>\n",
       "      <td>30</td>\n",
       "      <td>True</td>\n",
       "      <td>LLENS</td>\n",
       "    </tr>\n",
       "    <tr>\n",
       "      <th>46</th>\n",
       "      <td>2RRR3J96</td>\n",
       "      <td>31</td>\n",
       "      <td>True</td>\n",
       "      <td>MAND</td>\n",
       "    </tr>\n",
       "    <tr>\n",
       "      <th>52</th>\n",
       "      <td>O4OO661R</td>\n",
       "      <td>31</td>\n",
       "      <td>True</td>\n",
       "      <td>LACOU</td>\n",
       "    </tr>\n",
       "    <tr>\n",
       "      <th>60</th>\n",
       "      <td>86ZZ8Z8O</td>\n",
       "      <td>31</td>\n",
       "      <td>True</td>\n",
       "      <td>LLENS</td>\n",
       "    </tr>\n",
       "  </tbody>\n",
       "</table>\n",
       "</div>"
      ],
      "text/plain": [
       "          Id  Test_patient  Observer    OAR\n",
       "14  8368UUMU            30      True  LACOU\n",
       "22  H583HM1H            30      True  LLENS\n",
       "46  2RRR3J96            31      True   MAND\n",
       "52  O4OO661R            31      True  LACOU\n",
       "60  86ZZ8Z8O            31      True  LLENS"
      ]
     },
     "execution_count": 10,
     "metadata": {},
     "output_type": "execute_result"
    }
   ],
   "source": [
    "d.head()"
   ]
  },
  {
   "cell_type": "code",
   "execution_count": 29,
   "id": "bb932810-3c6d-4583-823c-1bdb41846b69",
   "metadata": {},
   "outputs": [],
   "source": [
    "# pats = list(d[\"Test_patient\"].unique())\n",
    "# # selecting rows based on condition \n",
    "# d_  = data_[(data_['Observer'] == False) & data_['Test_patient'].isin(pats)] "
   ]
  },
  {
   "cell_type": "code",
   "execution_count": 30,
   "id": "b493f15c-017b-41e9-8ecd-cced00f2006a",
   "metadata": {},
   "outputs": [],
   "source": [
    "# d_.head()"
   ]
  },
  {
   "cell_type": "code",
   "execution_count": 21,
   "id": "650e5af9-d8e3-42e9-bf8a-c2dfc496a511",
   "metadata": {},
   "outputs": [],
   "source": [
    "# get the ids for d, add one to get the new bias data .csv\n",
    "ids = list(d.index)"
   ]
  },
  {
   "cell_type": "code",
   "execution_count": 25,
   "id": "0c415199-74c5-4fa3-80cf-cfc42d003839",
   "metadata": {},
   "outputs": [],
   "source": [
    "import numpy as np\n",
    "ids = list(np.array(ids)+1)"
   ]
  },
  {
   "cell_type": "code",
   "execution_count": 27,
   "id": "1c1165bb-c88e-411b-9e97-88a53b3b95cb",
   "metadata": {},
   "outputs": [
    {
     "data": {
      "text/plain": [
       "90"
      ]
     },
     "execution_count": 27,
     "metadata": {},
     "output_type": "execute_result"
    }
   ],
   "source": [
    "len(ids)"
   ]
  },
  {
   "cell_type": "code",
   "execution_count": 31,
   "id": "c1a66339-6792-4d8a-b01e-9ced12543448",
   "metadata": {},
   "outputs": [],
   "source": [
    "d_ = data_[data_.index.isin(ids)]"
   ]
  },
  {
   "cell_type": "code",
   "execution_count": 32,
   "id": "385115e1-7633-453e-b55d-7813c0c7621e",
   "metadata": {},
   "outputs": [
    {
     "data": {
      "text/html": [
       "<div>\n",
       "<style scoped>\n",
       "    .dataframe tbody tr th:only-of-type {\n",
       "        vertical-align: middle;\n",
       "    }\n",
       "\n",
       "    .dataframe tbody tr th {\n",
       "        vertical-align: top;\n",
       "    }\n",
       "\n",
       "    .dataframe thead th {\n",
       "        text-align: right;\n",
       "    }\n",
       "</style>\n",
       "<table border=\"1\" class=\"dataframe\">\n",
       "  <thead>\n",
       "    <tr style=\"text-align: right;\">\n",
       "      <th></th>\n",
       "      <th>Id</th>\n",
       "      <th>Test_patient</th>\n",
       "      <th>Observer</th>\n",
       "      <th>OAR</th>\n",
       "    </tr>\n",
       "  </thead>\n",
       "  <tbody>\n",
       "    <tr>\n",
       "      <th>15</th>\n",
       "      <td>GB55BB90</td>\n",
       "      <td>30</td>\n",
       "      <td>False</td>\n",
       "      <td>LACOU</td>\n",
       "    </tr>\n",
       "    <tr>\n",
       "      <th>23</th>\n",
       "      <td>BBB6898R</td>\n",
       "      <td>30</td>\n",
       "      <td>False</td>\n",
       "      <td>LLENS</td>\n",
       "    </tr>\n",
       "    <tr>\n",
       "      <th>47</th>\n",
       "      <td>20NM7M1M</td>\n",
       "      <td>31</td>\n",
       "      <td>False</td>\n",
       "      <td>MAND</td>\n",
       "    </tr>\n",
       "    <tr>\n",
       "      <th>53</th>\n",
       "      <td>G3P86PP9</td>\n",
       "      <td>31</td>\n",
       "      <td>False</td>\n",
       "      <td>LACOU</td>\n",
       "    </tr>\n",
       "    <tr>\n",
       "      <th>61</th>\n",
       "      <td>8D4D4V3D</td>\n",
       "      <td>31</td>\n",
       "      <td>False</td>\n",
       "      <td>LLENS</td>\n",
       "    </tr>\n",
       "  </tbody>\n",
       "</table>\n",
       "</div>"
      ],
      "text/plain": [
       "          Id  Test_patient  Observer    OAR\n",
       "15  GB55BB90            30     False  LACOU\n",
       "23  BBB6898R            30     False  LLENS\n",
       "47  20NM7M1M            31     False   MAND\n",
       "53  G3P86PP9            31     False  LACOU\n",
       "61  8D4D4V3D            31     False  LLENS"
      ]
     },
     "execution_count": 32,
     "metadata": {},
     "output_type": "execute_result"
    }
   ],
   "source": [
    "d_.head()"
   ]
  },
  {
   "cell_type": "code",
   "execution_count": 33,
   "id": "cc6f2a42-a3fe-47b7-a1f6-406ceae59117",
   "metadata": {},
   "outputs": [],
   "source": [
    "d_.to_csv(\"/Users/jmarsill/Documents/bias2_allcomputer_2023.csv\")"
   ]
  },
  {
   "cell_type": "code",
   "execution_count": null,
   "id": "fe7ab3be-e936-48d4-802f-10671b4fb6fd",
   "metadata": {},
   "outputs": [],
   "source": []
  }
 ],
 "metadata": {
  "kernelspec": {
   "display_name": "Python 3 (ipykernel)",
   "language": "python",
   "name": "python3"
  },
  "language_info": {
   "codemirror_mode": {
    "name": "ipython",
    "version": 3
   },
   "file_extension": ".py",
   "mimetype": "text/x-python",
   "name": "python",
   "nbconvert_exporter": "python",
   "pygments_lexer": "ipython3",
   "version": "3.10.9"
  }
 },
 "nbformat": 4,
 "nbformat_minor": 5
}
